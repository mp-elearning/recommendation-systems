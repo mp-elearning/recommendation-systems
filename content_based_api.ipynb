{
 "cells": [
  {
   "cell_type": "code",
   "execution_count": 10,
   "metadata": {},
   "outputs": [],
   "source": [
    "import pandas as pd\n",
    "from math import sqrt\n",
    "import numpy as np\n",
    "import matplotlib.pyplot as plt\n",
    "%matplotlib inline"
   ]
  },
  {
   "cell_type": "code",
   "execution_count": 11,
   "metadata": {},
   "outputs": [],
   "source": [
    "videos_df = pd.read_csv('videos_rs.csv')\n",
    "videos_df\n",
    "all_vds = videos_df.drop('vid',1)\n",
    "# all_vds"
   ]
  },
  {
   "cell_type": "code",
   "execution_count": 12,
   "metadata": {},
   "outputs": [],
   "source": [
    "b = pd.read_csv('blog_data.csv')\n",
    "b = b.head(10)\n",
    "li = []\n",
    "\n",
    "li = b['Content']"
   ]
  },
  {
   "cell_type": "code",
   "execution_count": 13,
   "metadata": {},
   "outputs": [],
   "source": [
    "from werkzeug.wrappers import Request, Response\n",
    "from flask import Flask, render_template, request, jsonify\n",
    "from flask import json\n"
   ]
  },
  {
   "cell_type": "code",
   "execution_count": 14,
   "metadata": {},
   "outputs": [],
   "source": [
    "app = Flask(__name__)\n"
   ]
  },
  {
   "cell_type": "code",
   "execution_count": 15,
   "metadata": {},
   "outputs": [],
   "source": [
    "vid = [None]*5\n",
    "rating = [None]*5"
   ]
  },
  {
   "cell_type": "code",
   "execution_count": 16,
   "metadata": {},
   "outputs": [],
   "source": [
    "@app.route('/', methods=['POST','GET'])\n",
    "def user_based():\n",
    "    #Filtering out the movies by title\n",
    "    data = request.get_json(force=True)\n",
    "    vid[0] = data['vid0'] \n",
    "    rating[0] = int(data['rating0'])\n",
    "    \n",
    "    vid[1] = data['vid1'] \n",
    "    rating[1] = int(data['rating1'])\n",
    "    \n",
    "    vid[2] = data['vid2'] \n",
    "    rating[2] = int(data['rating2'])\n",
    "    \n",
    "    \n",
    "    vid[3] = data['vid3'] \n",
    "    rating[3] = int(data['rating3'])\n",
    "\n",
    "    vid[4] = data['vid4'] \n",
    "    rating[4] = int(data['rating4'])\n",
    "    \n",
    "    inputvds = pd.DataFrame()\n",
    "\n",
    "    inputvds['rating'] = rating\n",
    "    \n",
    "    inputvds['vid'] = vid\n",
    "    \n",
    "    inputvds1 = inputvds['rating']\n",
    "    user_rated = videos_df[videos_df['vid'].isin(inputvds['vid'].tolist())]\n",
    "    user_rated_df = user_rated.drop('vid', 1)\n",
    "    x = user_rated_df.transpose()\n",
    "    userProfile = user_rated_df.transpose().dot(inputvds1)\n",
    "    recommendationTable_df = ((all_vds*userProfile).sum(axis=1))/(userProfile.sum())\n",
    "    rt = recommendationTable_df\n",
    "    rt = list(rt)\n",
    "    rt = sorted(range(len(rt)), key=lambda k: rt[k],reverse = True)\n",
    "    x = []\n",
    "    x = rt\n",
    "    \n",
    "#     return jsonify([{\"c1\":str(x[0]+1),\"c2\":str(x[1]+1),\"c3\":str(x[2]+1),\"c4\":str(x[3]+1),\"c5\":str(x[4]+1),\"c6\":str(x[5]+1),\"c7\":str(x[6]+1)}])\n",
    "    return jsonify([{\"c1\":str(x[0]+1),\"d1\":li[x[0]]},{\"c2\":str(x[1]+1),\"d2\":li[x[1]]},{\"c3\":str(x[2]+1),\"d3\":li[x[2]]},{\"c4\":str(x[3]+1),\"d4\":li[x[3]]},{\"c5\":str(x[4]+1),\"d5\":li[x[4]]},{\"c6\":str(x[5]+1),\"d6\":li[x[5]]},{\"c7\":str(x[6]+1),\"d7\":li[x[6]]}])\n"
   ]
  },
  {
   "cell_type": "code",
   "execution_count": null,
   "metadata": {},
   "outputs": [
    {
     "name": "stderr",
     "output_type": "stream",
     "text": [
      " * Running on http://localhost:8000/ (Press CTRL+C to quit)\n",
      "127.0.0.1 - - [10/Apr/2019 21:08:57] \"GET / HTTP/1.1\" 200 -\n"
     ]
    }
   ],
   "source": [
    "if __name__ == '__main__':\n",
    "    from werkzeug.serving import run_simple\n",
    "    run_simple('localhost', 8000, app)"
   ]
  },
  {
   "cell_type": "code",
   "execution_count": null,
   "metadata": {},
   "outputs": [],
   "source": []
  },
  {
   "cell_type": "code",
   "execution_count": null,
   "metadata": {},
   "outputs": [],
   "source": []
  },
  {
   "cell_type": "code",
   "execution_count": null,
   "metadata": {},
   "outputs": [],
   "source": []
  }
 ],
 "metadata": {
  "kernelspec": {
   "display_name": "Python 3",
   "language": "python",
   "name": "python3"
  },
  "language_info": {
   "codemirror_mode": {
    "name": "ipython",
    "version": 3
   },
   "file_extension": ".py",
   "mimetype": "text/x-python",
   "name": "python",
   "nbconvert_exporter": "python",
   "pygments_lexer": "ipython3",
   "version": "3.6.5"
  }
 },
 "nbformat": 4,
 "nbformat_minor": 2
}
